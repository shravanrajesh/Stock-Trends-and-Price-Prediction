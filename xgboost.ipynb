{
 "cells": [
  {
   "cell_type": "code",
   "execution_count": 1,
   "metadata": {
    "_cell_guid": "b1076dfc-b9ad-4769-8c92-a6c4dae69d19",
    "_uuid": "8f2839f25d086af736a60e9eeb907d3b93b6e0e5"
   },
   "outputs": [],
   "source": [
    "import math\n",
    "import matplotlib\n",
    "import numpy as np\n",
    "import pandas as pd\n",
    "import seaborn as sns\n",
    "import time\n",
    "\n",
    "from datetime import date\n",
    "from matplotlib import pyplot as plt\n",
    "from pylab import rcParams\n",
    "from sklearn.metrics import mean_squared_error\n",
    "from sklearn.preprocessing import StandardScaler\n",
    "from tqdm import tqdm_notebook\n",
    "from xgboost import XGBRegressor\n",
    "import os\n",
    "\n",
    "%matplotlib inline"
   ]
  },
  {
   "cell_type": "code",
   "execution_count": 2,
   "metadata": {},
   "outputs": [],
   "source": [
    "etf_legend = pd.read_csv('../input/stockprice/etf_legend.csv')\n",
    "stock_legend = pd.read_csv('../input/stockprice/stock_legend.csv')\n",
    "os.chdir('../input/price-volume-data-for-all-us-stocks-etfs')\n",
    "# for i in stock_legend['Name']:\n",
    "#     print(stock_legend.Sym[stock_legend[stock_legend.Name==i].index[0]])"
   ]
  },
  {
   "cell_type": "code",
   "execution_count": 4,
   "metadata": {
    "_cell_guid": "79c7e3d0-c299-4dcb-8224-4455121ee9b0",
    "_uuid": "d629ff2d2480ee46fbb7e2d37f6b5fab8052498a"
   },
   "outputs": [],
   "source": [
    "#### Input params ##################\n",
    "# stk_path = \"../input/stockprice/data/VTI.csv\"\n",
    "test_size = 0.1                # proportion of dataset to be used as test set\n",
    "cv_size = 0.1                  # proportion of dataset to be used as cross-validation set\n",
    "N = 3                          # for feature at day t, we use lags from t-1, t-2, ..., t-N as features\n",
    "n_estimators = 100             # Number of boosted trees to fit. default = 100\n",
    "max_depth = 3                  # Maximum tree depth for base learners. default = 3\n",
    "learning_rate = 0.1            # Boosting learning rate (xgb’s “eta”). default = 0.1\n",
    "min_child_weight = 1           # Minimum sum of instance weight(hessian) needed in a child. default = 1\n",
    "subsample = 1                  # Subsample ratio of the training instance. default = 1\n",
    "colsample_bytree = 1           # Subsample ratio of columns when constructing each tree. default = 1\n",
    "colsample_bylevel = 1          # Subsample ratio of columns for each split, in each level. default = 1\n",
    "gamma = 0                      # Minimum loss reduction required to make a further partition on a leaf node of the tree. default=0\n",
    "\n",
    "model_seed = 100\n",
    "\n",
    "fontsize = 14\n",
    "ticklabelsize = 14\n",
    "####################################"
   ]
  },
  {
   "cell_type": "code",
   "execution_count": 5,
   "metadata": {},
   "outputs": [],
   "source": [
    "def get_mov_avg_std(df, col, N):\n",
    "    \"\"\"\n",
    "    Given a dataframe, get mean and std dev at timestep t using values from t-1, t-2, ..., t-N.\n",
    "    Inputs\n",
    "        df         : dataframe. Can be of any length.\n",
    "        col        : name of the column you want to calculate mean and std dev\n",
    "        N          : get mean and std dev at timestep t using values from t-1, t-2, ..., t-N\n",
    "    Outputs\n",
    "        df_out     : same as df but with additional column containing mean and std dev\n",
    "    \"\"\"\n",
    "    mean_list = df[col].rolling(window = N, min_periods=1).mean() # len(mean_list) = len(df)\n",
    "    std_list = df[col].rolling(window = N, min_periods=1).std()   # first value will be NaN, because normalized by N-1\n",
    "    \n",
    "    # Add one timestep to the predictions\n",
    "    mean_list = np.concatenate((np.array([np.nan]), np.array(mean_list[:-1])))\n",
    "    std_list = np.concatenate((np.array([np.nan]), np.array(std_list[:-1])))\n",
    "    \n",
    "    # Append mean_list to df\n",
    "    df_out = df.copy()\n",
    "    df_out[col + '_mean'] = mean_list\n",
    "    df_out[col + '_std'] = std_list\n",
    "    \n",
    "    return df_out\n",
    "\n",
    "def scale_row(row, feat_mean, feat_std):\n",
    "    \"\"\"\n",
    "    Given a pandas series in row, scale it to have 0 mean and var 1 using feat_mean and feat_std\n",
    "    Inputs\n",
    "        row      : pandas series. Need to scale this.\n",
    "        feat_mean: mean  \n",
    "        feat_std : standard deviation\n",
    "    Outputs\n",
    "        row_scaled : pandas series with same length as row, but scaled\n",
    "    \"\"\"\n",
    "    # If feat_std = 0 (this happens if adj_close doesn't change over N days), \n",
    "    # set it to a small number to avoid division by zero\n",
    "    feat_std = 0.001 if feat_std == 0 else feat_std\n",
    "    \n",
    "    row_scaled = (row-feat_mean) / feat_std\n",
    "    \n",
    "    return row_scaled\n",
    "\n",
    "def get_mape(y_true, y_pred): \n",
    "    \"\"\"\n",
    "    Compute mean absolute percentage error (MAPE)\n",
    "    \"\"\"\n",
    "    y_true, y_pred = np.array(y_true), np.array(y_pred)\n",
    "    return np.mean(np.abs((y_true - y_pred) / y_true)) * 100\n",
    "\n",
    "def train_pred_eval_model(X_train_scaled, \\\n",
    "                          y_train_scaled, \\\n",
    "                          X_test_scaled, \\\n",
    "                          y_test, \\\n",
    "                          col_mean, \\\n",
    "                          col_std, \\\n",
    "                          seed=100, \\\n",
    "                          n_estimators=100, \\\n",
    "                          max_depth=3, \\\n",
    "                          learning_rate=0.1, \\\n",
    "                          min_child_weight=1, \\\n",
    "                          subsample=1, \\\n",
    "                          colsample_bytree=1, \\\n",
    "                          colsample_bylevel=1, \\\n",
    "                          gamma=0):\n",
    "    '''\n",
    "    Train model, do prediction, scale back to original range and do evaluation\n",
    "    Use XGBoost here.\n",
    "    Inputs\n",
    "        X_train_scaled     : features for training. Scaled to have mean 0 and variance 1\n",
    "        y_train_scaled     : target for training. Scaled to have mean 0 and variance 1\n",
    "        X_test_scaled      : features for test. Each sample is scaled to mean 0 and variance 1\n",
    "        y_test             : target for test. Actual values, not scaled.\n",
    "        col_mean           : means used to scale each sample of X_test_scaled. Same length as X_test_scaled and y_test\n",
    "        col_std            : standard deviations used to scale each sample of X_test_scaled. Same length as X_test_scaled and y_test\n",
    "        seed               : model seed\n",
    "        n_estimators       : number of boosted trees to fit\n",
    "        max_depth          : maximum tree depth for base learners\n",
    "        learning_rate      : boosting learning rate (xgb’s “eta”)\n",
    "        min_child_weight   : minimum sum of instance weight(hessian) needed in a child\n",
    "        subsample          : subsample ratio of the training instance\n",
    "        colsample_bytree   : subsample ratio of columns when constructing each tree\n",
    "        colsample_bylevel  : subsample ratio of columns for each split, in each level\n",
    "        gamma              : \n",
    "    Outputs\n",
    "        rmse               : root mean square error of y_test and est\n",
    "        mape               : mean absolute percentage error of y_test and est\n",
    "        est                : predicted values. Same length as y_test\n",
    "    '''\n",
    "\n",
    "    model = XGBRegressor(seed=model_seed,\n",
    "                         n_estimators=n_estimators,\n",
    "                         max_depth=max_depth,\n",
    "                         learning_rate=learning_rate,\n",
    "                         min_child_weight=min_child_weight,\n",
    "                         subsample=subsample,\n",
    "                         colsample_bytree=colsample_bytree,\n",
    "                         colsample_bylevel=colsample_bylevel,\n",
    "                         gamma=gamma)\n",
    "    \n",
    "    # Train the model\n",
    "    model.fit(X_train_scaled, y_train_scaled)\n",
    "    \n",
    "    # Get predicted labels and scale back to original range\n",
    "    est_scaled = model.predict(X_test_scaled)\n",
    "    est = est_scaled * col_std + col_mean\n",
    "\n",
    "    # Calculate RMSE\n",
    "    rmse = math.sqrt(mean_squared_error(y_test, est))\n",
    "    mape = get_mape(y_test, est)\n",
    "    \n",
    "    return rmse, mape, est"
   ]
  },
  {
   "cell_type": "markdown",
   "metadata": {},
   "source": [
    "# Feature Engineering\n",
    "\n",
    "We will generate the following features:\n",
    "* Mean 'adj_close' of each month\n",
    "* Difference between high and low of each day\n",
    "* Difference between open and close of each day\n",
    "* Mean volume of each month"
   ]
  },
  {
   "cell_type": "code",
   "execution_count": 6,
   "metadata": {},
   "outputs": [],
   "source": [
    "def modify_df(df):\n",
    "    # Convert Date column to datetime\n",
    "    df.loc[:, 'Date'] = pd.to_datetime(df['Date'],format='%Y-%m-%d')\n",
    "\n",
    "    # Change all column headings to be lower case, and remove spacing\n",
    "    df.columns = [str(x).lower().replace(' ', '_') for x in df.columns]\n",
    "    df.drop(['openint'], axis=1, inplace=True)\n",
    "\n",
    "    df['adj_close'] = df['close']\n",
    "    # Get month of each sample\n",
    "    df['month'] = df['date'].dt.month\n",
    "\n",
    "    # Sort by datetime\n",
    "    df.sort_values(by='date', inplace=True, ascending=True)\n",
    "    \n",
    "    # Get difference between high and low of each day\n",
    "    df['range_hl'] = df['high'] - df['low']\n",
    "    df.drop(['high', 'low'], axis=1, inplace=True)\n",
    "\n",
    "    # Get difference between open and close of each day\n",
    "    df['range_oc'] = df['open'] - df['close']\n",
    "    df.drop(['open', 'close'], axis=1, inplace=True)\n",
    "\n",
    "    # Add a column 'order_day' to indicate the order of the rows by date\n",
    "    df['order_day'] = [x for x in list(range(len(df)))]\n",
    "\n",
    "    # merging_keys\n",
    "    merging_keys = ['order_day']\n",
    "\n",
    "    # List of columns that we will use to create lags\n",
    "    lag_cols = ['adj_close', 'range_hl', 'range_oc', 'volume']\n",
    "\n",
    "    shift_range = [x+1 for x in range(N)]\n",
    "\n",
    "    for shift in tqdm_notebook(shift_range):\n",
    "        train_shift = df[merging_keys + lag_cols].copy()\n",
    "\n",
    "        # E.g. order_day of 0 becomes 1, for shift = 1.\n",
    "        # So when this is merged with order_day of 1 in df, this will represent lag of 1.\n",
    "        train_shift['order_day'] = train_shift['order_day'] + shift\n",
    "\n",
    "        foo = lambda x: '{}_lag_{}'.format(x, shift) if x in lag_cols else x\n",
    "        train_shift = train_shift.rename(columns=foo)\n",
    "\n",
    "        df = pd.merge(df, train_shift, on=merging_keys, how='left') #.fillna(0)\n",
    "\n",
    "    del train_shift\n",
    "\n",
    "    # Remove the first N rows which contain NaNs\n",
    "    df = df[N:]\n",
    "    \n",
    "    # Get mean and std dev at timestamp t using values from t-1, ..., t-N\n",
    "    cols_list = [\"adj_close\", \"range_hl\", \"range_oc\", \"volume\" ]\n",
    "\n",
    "    for col in cols_list:\n",
    "        df = get_mov_avg_std(df, col, N)\n",
    "    return df"
   ]
  },
  {
   "cell_type": "markdown",
   "metadata": {},
   "source": [
    "# Split into train, dev and test set"
   ]
  },
  {
   "cell_type": "code",
   "execution_count": 7,
   "metadata": {},
   "outputs": [],
   "source": [
    "def split_train_dev_test(df):\n",
    "    # Get sizes of each of the datasets\n",
    "    num_cv = int(cv_size*len(df))\n",
    "    num_test = int(test_size*len(df))\n",
    "    num_train = len(df) - num_cv - num_test\n",
    "\n",
    "    # Split into train, cv, and test\n",
    "    train = df[:num_train]\n",
    "    cv = df[num_train:num_train+num_cv]\n",
    "    train_cv = df[:num_train+num_cv]\n",
    "    test = df[num_train+num_cv:]\n",
    "    return train, cv, train_cv, test"
   ]
  },
  {
   "cell_type": "markdown",
   "metadata": {},
   "source": [
    "# Scale the train, dev and test set"
   ]
  },
  {
   "cell_type": "code",
   "execution_count": 10,
   "metadata": {},
   "outputs": [],
   "source": [
    "def scale_train_dev_test(train, cv, train_cv, test):\n",
    "    cols_to_scale = [\"adj_close\"]\n",
    "    cols_list = [\"adj_close\", \"range_hl\", \"range_oc\", \"volume\" ]\n",
    "\n",
    "    for i in range(1,N+1):\n",
    "        cols_to_scale.append(\"adj_close_lag_\"+str(i))\n",
    "        cols_to_scale.append(\"range_hl_lag_\"+str(i))\n",
    "        cols_to_scale.append(\"range_oc_lag_\"+str(i))\n",
    "        cols_to_scale.append(\"volume_lag_\"+str(i))\n",
    "\n",
    "    # Do scaling for train set\n",
    "    # Here we only scale the train dataset, and not the entire dataset to prevent information leak\n",
    "    scaler = StandardScaler()\n",
    "    train_scaled = scaler.fit_transform(train[cols_to_scale])\n",
    "    # Convert the numpy array back into pandas dataframe\n",
    "    train_scaled = pd.DataFrame(train_scaled, columns=cols_to_scale)\n",
    "    train_scaled[['date', 'month']] = train.reset_index()[['date', 'month']]\n",
    "    \n",
    "    # Do scaling for train+dev set\n",
    "    scaler_train_cv = StandardScaler()\n",
    "    train_cv_scaled = scaler_train_cv.fit_transform(train_cv[cols_to_scale])\n",
    "    # Convert the numpy array back into pandas dataframe\n",
    "    train_cv_scaled = pd.DataFrame(train_cv_scaled, columns=cols_to_scale)\n",
    "    train_cv_scaled[['date', 'month']] = train_cv.reset_index()[['date', 'month']]\n",
    "    \n",
    "    # Do scaling for dev set\n",
    "    cv_scaled = cv[['date']]\n",
    "    for col in tqdm_notebook(cols_list):\n",
    "        feat_list = [col + '_lag_' + str(shift) for shift in range(1, N+1)]\n",
    "        temp = cv.apply(lambda row: scale_row(row[feat_list], row[col+'_mean'], row[col+'_std']), axis=1)\n",
    "        cv_scaled = pd.concat([cv_scaled, temp], axis=1)\n",
    "        \n",
    "    # Do scaling for test set\n",
    "    test_scaled = test[['date']]\n",
    "    for col in tqdm_notebook(cols_list):\n",
    "        feat_list = [col + '_lag_' + str(shift) for shift in range(1, N+1)]\n",
    "        temp = test.apply(lambda row: scale_row(row[feat_list], row[col+'_mean'], row[col+'_std']), axis=1)\n",
    "        test_scaled = pd.concat([test_scaled, temp], axis=1)\n",
    "        \n",
    "    return train_scaled, train_cv_scaled, cv_scaled, test_scaled"
   ]
  },
  {
   "cell_type": "markdown",
   "metadata": {},
   "source": [
    "## Tuning XGBoost - n_estimators (default=100) and max_depth (default=3)"
   ]
  },
  {
   "cell_type": "code",
   "execution_count": 20,
   "metadata": {},
   "outputs": [],
   "source": [
    "def tune_n_estimators_max_depth(X_train_scaled,y_train_scaled,X_cv_scaled,y_cv,cv):\n",
    "    param_label = 'n_estimators'\n",
    "    param_list = range(10, 310, 10)\n",
    "\n",
    "    param2_label = 'max_depth'\n",
    "    param2_list = [2, 3, 4, 5, 6, 7, 8, 9]\n",
    "\n",
    "    error_rate = {param_label: [] , param2_label: [], 'rmse': [], 'mape_pct': []}\n",
    "    for param in tqdm_notebook(param_list):\n",
    "        for param2 in param2_list:\n",
    "            rmse, mape, _ = train_pred_eval_model(X_train_scaled, \n",
    "                                         y_train_scaled, \n",
    "                                         X_cv_scaled, \n",
    "                                         y_cv, \n",
    "                                         cv['adj_close_mean'],\n",
    "                                         cv['adj_close_std'],\n",
    "                                         seed=model_seed,\n",
    "                                         n_estimators=param, \n",
    "                                         max_depth=param2, \n",
    "                                         learning_rate=learning_rate, \n",
    "                                         min_child_weight=min_child_weight, \n",
    "                                         subsample=subsample, \n",
    "                                         colsample_bytree=colsample_bytree, \n",
    "                                         colsample_bylevel=colsample_bylevel, \n",
    "                                         gamma=gamma)\n",
    "\n",
    "            # Collect results\n",
    "            error_rate[param_label].append(param)\n",
    "            error_rate[param2_label].append(param2)\n",
    "            error_rate['rmse'].append(rmse)\n",
    "            error_rate['mape_pct'].append(mape)\n",
    "\n",
    "    error_rate = pd.DataFrame(error_rate)\n",
    "    temp = error_rate[error_rate['rmse'] == error_rate['rmse'].min()]\n",
    "    n_estimators_opt = temp['n_estimators'].values[0]\n",
    "    max_depth_opt = temp['max_depth'].values[0]\n",
    "    return n_estimators_opt, max_depth_opt"
   ]
  },
  {
   "cell_type": "markdown",
   "metadata": {},
   "source": [
    "## Tuning XGBoost - learning_rate(default=0.1) and min_child_weight(default=1)"
   ]
  },
  {
   "cell_type": "code",
   "execution_count": 26,
   "metadata": {},
   "outputs": [],
   "source": [
    "def tune_learning_rate_min_child_weight(X_train_scaled,y_train_scaled,X_cv_scaled,y_cv,cv,n_estimators_opt, max_depth_opt):\n",
    "    param_label = 'learning_rate'\n",
    "    param_list = [0.001, 0.005, 0.01, 0.05, 0.1, 0.2, 0.3]\n",
    "\n",
    "    param2_label = 'min_child_weight'\n",
    "    param2_list = range(5, 21, 1)\n",
    "\n",
    "    error_rate = {param_label: [] , param2_label: [], 'rmse': [], 'mape_pct': []}\n",
    "    for param in tqdm_notebook(param_list):\n",
    "        for param2 in param2_list:\n",
    "            rmse, mape, _ = train_pred_eval_model(X_train_scaled, \n",
    "                                         y_train_scaled, \n",
    "                                         X_cv_scaled, \n",
    "                                         y_cv, \n",
    "                                         cv['adj_close_mean'],\n",
    "                                         cv['adj_close_std'],\n",
    "                                         seed=model_seed,\n",
    "                                         n_estimators=n_estimators_opt, \n",
    "                                         max_depth=max_depth_opt, \n",
    "                                         learning_rate=param, \n",
    "                                         min_child_weight=param2, \n",
    "                                         subsample=subsample, \n",
    "                                         colsample_bytree=colsample_bytree, \n",
    "                                         colsample_bylevel=colsample_bylevel, \n",
    "                                         gamma=gamma)\n",
    "\n",
    "            # Collect results\n",
    "            error_rate[param_label].append(param)\n",
    "            error_rate[param2_label].append(param2)\n",
    "            error_rate['rmse'].append(rmse)\n",
    "            error_rate['mape_pct'].append(mape)\n",
    "\n",
    "    error_rate = pd.DataFrame(error_rate)\n",
    "    \n",
    "    # Get optimum value for param and param2\n",
    "    temp = error_rate[error_rate['rmse'] == error_rate['rmse'].min()]\n",
    "    learning_rate_opt = temp['learning_rate'].values[0]\n",
    "    min_child_weight_opt = temp['min_child_weight'].values[0]\n",
    "    return learning_rate_opt, min_child_weight_opt"
   ]
  },
  {
   "cell_type": "markdown",
   "metadata": {},
   "source": [
    "## Tuning XGBoost - subsample(default=1) and gamma(default=0)"
   ]
  },
  {
   "cell_type": "code",
   "execution_count": 32,
   "metadata": {},
   "outputs": [],
   "source": [
    "def tune_subsample_gamma(X_train_scaled,y_train_scaled,X_cv_scaled,y_cv,cv,n_estimators_opt,max_depth_opt,learning_rate_opt,min_child_weight_opt):\n",
    "    param_label = 'subsample'\n",
    "    param_list = [0.1, 0.2, 0.3, 0.4, 0.5, 0.6, 0.7, 0.8, 0.9, 1]\n",
    "\n",
    "    param2_label = 'gamma'\n",
    "    param2_list = [0.1, 0.2, 0.3, 0.4, 0.5, 0.6, 0.7, 0.8, 0.9, 1]\n",
    "\n",
    "    error_rate = {param_label: [] , param2_label: [], 'rmse': [], 'mape_pct': []}\n",
    "    for param in tqdm_notebook(param_list):\n",
    "        for param2 in param2_list:\n",
    "            rmse, mape, _ = train_pred_eval_model(X_train_scaled, \n",
    "                                         y_train_scaled, \n",
    "                                         X_cv_scaled, \n",
    "                                         y_cv, \n",
    "                                         cv['adj_close_mean'],\n",
    "                                         cv['adj_close_std'],\n",
    "                                         seed=model_seed,\n",
    "                                         n_estimators=n_estimators_opt, \n",
    "                                         max_depth=max_depth_opt, \n",
    "                                         learning_rate=learning_rate_opt, \n",
    "                                         min_child_weight=min_child_weight_opt, \n",
    "                                         subsample=param, \n",
    "                                         colsample_bytree=colsample_bytree, \n",
    "                                         colsample_bylevel=colsample_bylevel, \n",
    "                                         gamma=param2)\n",
    "\n",
    "            # Collect results\n",
    "            error_rate[param_label].append(param)\n",
    "            error_rate[param2_label].append(param2)\n",
    "            error_rate['rmse'].append(rmse)\n",
    "            error_rate['mape_pct'].append(mape)\n",
    "\n",
    "    error_rate = pd.DataFrame(error_rate)\n",
    "    \n",
    "    # Get optimum value for param and param2\n",
    "    temp = error_rate[error_rate['rmse'] == error_rate['rmse'].min()]\n",
    "    subsample_opt = temp['subsample'].values[0]\n",
    "    gamma_opt = temp['gamma'].values[0]\n",
    "    return subsample_opt, gamma_opt"
   ]
  },
  {
   "cell_type": "markdown",
   "metadata": {},
   "source": [
    "## Tuning XGBoost - colsample_bytree(default=1) and colsample_bylevel(default=1)"
   ]
  },
  {
   "cell_type": "code",
   "execution_count": 38,
   "metadata": {},
   "outputs": [],
   "source": [
    "def tune_bytree_bylevel(X_train_scaled,y_train_scaled,X_cv_scaled,y_cv,cv,n_estimators_opt,max_depth_opt,learning_rate_opt,min_child_weight_opt,subsample_opt,gamma_opt):\n",
    "    param_label = 'colsample_bytree'\n",
    "    param_list = [0.5, 0.6, 0.7, 0.8, 0.9, 1]\n",
    "\n",
    "    param2_label = 'colsample_bylevel'\n",
    "    param2_list = [0.5, 0.6, 0.7, 0.8, 0.9, 1]\n",
    "\n",
    "    error_rate = {param_label: [] , param2_label: [], 'rmse': [], 'mape_pct': []}\n",
    "    for param in tqdm_notebook(param_list):\n",
    "        for param2 in param2_list:\n",
    "            rmse, mape, _ = train_pred_eval_model(X_train_scaled, \n",
    "                                         y_train_scaled, \n",
    "                                         X_cv_scaled, \n",
    "                                         y_cv, \n",
    "                                         cv['adj_close_mean'],\n",
    "                                         cv['adj_close_std'],\n",
    "                                         seed=model_seed,\n",
    "                                         n_estimators=n_estimators_opt, \n",
    "                                         max_depth=max_depth_opt, \n",
    "                                         learning_rate=learning_rate_opt, \n",
    "                                         min_child_weight=min_child_weight_opt, \n",
    "                                         subsample=subsample_opt, \n",
    "                                         colsample_bytree=param, \n",
    "                                         colsample_bylevel=param2, \n",
    "                                         gamma=gamma_opt)\n",
    "\n",
    "            # Collect results\n",
    "            error_rate[param_label].append(param)\n",
    "            error_rate[param2_label].append(param2)\n",
    "            error_rate['rmse'].append(rmse)\n",
    "            error_rate['mape_pct'].append(mape)\n",
    "\n",
    "    error_rate = pd.DataFrame(error_rate)\n",
    "    \n",
    "    # Get optimum value for param and param2\n",
    "    temp = error_rate[error_rate['rmse'] == error_rate['rmse'].min()]\n",
    "    colsample_bytree_opt = temp['colsample_bytree'].values[0]\n",
    "    colsample_bylevel_opt = temp['colsample_bylevel'].values[0]\n",
    "    return colsample_bytree_opt, colsample_bylevel_opt"
   ]
  },
  {
   "cell_type": "code",
   "execution_count": 45,
   "metadata": {},
   "outputs": [],
   "source": [
    "def train_model(df):\n",
    "    df = modify_df(df)\n",
    "    train, cv, train_cv, test = split_train_dev_test(df)\n",
    "    train_scaled, train_cv_scaled, cv_scaled, test_scaled = scale_train_dev_test(train, cv, train_cv, test)\n",
    "    \n",
    "    features = []\n",
    "    for i in range(1,N+1):\n",
    "        features.append(\"adj_close_lag_\"+str(i))\n",
    "        features.append(\"range_hl_lag_\"+str(i))\n",
    "        features.append(\"range_oc_lag_\"+str(i))\n",
    "        features.append(\"volume_lag_\"+str(i))\n",
    "\n",
    "    target = \"adj_close\"\n",
    "\n",
    "\n",
    "    # Split into X and y\n",
    "    X_train = train[features]\n",
    "    y_train = train[target]\n",
    "    X_cv = cv[features]\n",
    "    y_cv = cv[target]\n",
    "    X_train_cv = train_cv[features]\n",
    "    y_train_cv = train_cv[target]\n",
    "    X_sample = test[features]\n",
    "    y_sample = test[target]\n",
    "    \n",
    "    X_train_scaled = train_scaled[features]\n",
    "    y_train_scaled = train_scaled[target]\n",
    "    X_cv_scaled = cv_scaled[features]\n",
    "    X_train_cv_scaled = train_cv_scaled[features]\n",
    "    y_train_cv_scaled = train_cv_scaled[target]\n",
    "    X_sample_scaled = test_scaled[features]\n",
    "    \n",
    "    \n",
    "    # Create the model using XGBoost\n",
    "    model = XGBRegressor(seed=model_seed,\n",
    "                         n_estimators=n_estimators,\n",
    "                         max_depth=max_depth,\n",
    "                         learning_rate=learning_rate,\n",
    "                         min_child_weight=min_child_weight,\n",
    "                         subsample=subsample,\n",
    "                         colsample_bytree=colsample_bytree,\n",
    "                         colsample_bylevel=colsample_bylevel,\n",
    "                         gamma=gamma)\n",
    "\n",
    "    # Train the regressor\n",
    "    model.fit(X_train_scaled, y_train_scaled)\n",
    "\n",
    "    # Tuning XGBoost - n_estimators (default=100) and max_depth (default=3)\n",
    "    n_estimators_opt, max_depth_opt = tune_n_estimators_max_depth(X_train_scaled,y_train_scaled,X_cv_scaled,y_cv,cv)\n",
    "    # Tuning XGBoost - learning_rate(default=0.1) and min_child_weight(default=1)\n",
    "    learning_rate_opt, min_child_weight_opt = tune_learning_rate_min_child_weight(X_train_scaled,y_train_scaled,X_cv_scaled,y_cv,cv,n_estimators_opt,max_depth_opt)\n",
    "    # Tuning XGBoost - subsample(default=1) and gamma(default=0)\n",
    "    subsample_opt, gamma_opt = tune_subsample_gamma(X_train_scaled,y_train_scaled,X_cv_scaled,y_cv,cv,n_estimators_opt,max_depth_opt,learning_rate_opt,min_child_weight_opt)\n",
    "    # Tuning XGBoost - colsample_bytree(default=1) and colsample_bylevel(default=1)\n",
    "    colsample_bytree_opt, colsample_bylevel_opt = tune_bytree_bylevel(X_train_scaled,y_train_scaled,X_cv_scaled,y_cv,cv,n_estimators_opt,max_depth_opt,learning_rate_opt,min_child_weight_opt,subsample_opt,gamma_opt)\n",
    "    rmse, mape, est = train_pred_eval_model(X_train_cv_scaled, \n",
    "                                 y_train_cv_scaled, \n",
    "                                 X_sample_scaled, \n",
    "                                 y_sample, \n",
    "                                 test['adj_close_mean'],\n",
    "                                 test['adj_close_std'],\n",
    "                                 seed=model_seed,\n",
    "                                 n_estimators=n_estimators_opt, \n",
    "                                 max_depth=max_depth_opt, \n",
    "                                 learning_rate=learning_rate_opt, \n",
    "                                 min_child_weight=min_child_weight_opt, \n",
    "                                 subsample=subsample_opt, \n",
    "                                 colsample_bytree=colsample_bytree_opt, \n",
    "                                 colsample_bylevel=colsample_bylevel_opt, \n",
    "                                 gamma=gamma_opt)\n",
    "    return rmse, mape, est, df"
   ]
  },
  {
   "cell_type": "code",
   "execution_count": 57,
   "metadata": {},
   "outputs": [],
   "source": [
    "# est_set = [] \n",
    "# for i in stock_legend['Name']:\n",
    "#     stock = i\n",
    "#     txt = stock_legend.Sym[stock_legend[stock_legend.Name==stock].index[0]]\n",
    "#     df = pd.read_csv(txt)\n",
    "#     rmse, mape, est, df = train_model(df)\n",
    "#     est_set[stock] = [rmse, mape, est, df]\n",
    "# for i in etf_legend['Name']:\n",
    "#     etf = i\n",
    "#     txt = etf_legend.Sym[etf_legend[etf_legend.Name==etf].index[0]]\n",
    "#     df = pd.read_csv(txt)\n",
    "#     rmse, mape, est, df = train_model(df)\n",
    "#     est_set[etf] = [rmse, mape, est, df]"
   ]
  },
  {
   "cell_type": "code",
   "execution_count": 3,
   "metadata": {},
   "outputs": [
    {
     "name": "stdout",
     "output_type": "stream",
     "text": [
      "Stocks/ETFs(S/E): \n",
      "S\n",
      "***Available Stocks***\n",
      "Amazon.com Inc\n",
      "Alphabet Class C\n",
      "Alphabet Class A\n",
      "Intuitive Surgical Inc\n",
      "Charter Communications Inc\n",
      "Align Technology Inc\n",
      "Adobe Inc.\n",
      "ASML Holding NV\n",
      "Broadcom Inc\n",
      "Costco Wholesale Corp\n",
      "Intuit Inc\n",
      "Cintas Corp\n",
      "DexCom Inc\n",
      "Illumina Inc\n",
      "ANSYS Inc\n",
      "Autodesk Inc\n",
      "Facebook\n",
      "Biogen Inc\n",
      "Amgen Inc\n",
      "Automatic Data Processing Inc\n",
      "Baidu Inc\n",
      "Analog Devices Inc\n",
      "Electronic Arts\n",
      "Citrix Systems Inc\n",
      "CDW Corp\n",
      "Expedia Group Inc\n",
      "Apple Inc\n",
      "Check Point Software Technologies Ltd\n",
      "Alexion Pharmaceuticals Inc\n",
      "Cadence Design Systems Inc\n",
      "Fiserv Inc\n",
      "Copart Inc\n",
      "Dollar Tree Inc\n",
      "Advanced Micro Devices Inc\n",
      "CSX Corp\n",
      "Applied Materials Inc\n",
      "Activision Blizzard Inc\n",
      "Incyte Corp\n",
      "Cognizant Technology Solutions Corp\n",
      "Biomarin Pharmaceutical Inc\n",
      "Cerner Corp\n",
      "Gilead Sciences Inc\n",
      "Comcast Corp\n",
      "Intel Corp\n",
      "eBay Inc\n",
      "Fastenal Co\n",
      "Cisco Systems Inc\n",
      "Exelon Corp\n",
      "Goldman Sachs Group Inc\n",
      "Infosys Ltd ADR\n",
      "Enter the desired stock: Goldman Sachs Group Inc\n",
      "Goldman Sachs Group Inc gs.us.txt\n"
     ]
    }
   ],
   "source": [
    "print(\"Stocks/ETFs(S/E): \")\n",
    "dec = input()\n",
    "if dec == \"E\":\n",
    "    os.chdir(\"ETFs\")\n",
    "    print(\"***Available ETFs***\")\n",
    "    for i in stock_legend['Name']:\n",
    "        print(i)\n",
    "elif dec == \"S\":\n",
    "    os.chdir(\"Stocks\")\n",
    "    print(\"***Available Stocks***\")\n",
    "    for i in stock_legend['Name']:\n",
    "        print(i)\n",
    "stock = input(\"Enter the desired stock: \") \n",
    "txt = stock_legend.Sym[stock_legend[stock_legend.Name==stock].index[0]]\n",
    "print(stock, txt)\n",
    "#rmse, mape, est, df = est_set[stock][0], est_set[stock][1], est_set[stock][2], est_set[stock][3]"
   ]
  },
  {
   "cell_type": "code",
   "execution_count": 46,
   "metadata": {
    "scrolled": true
   },
   "outputs": [
    {
     "name": "stderr",
     "output_type": "stream",
     "text": [
      "/opt/conda/lib/python3.7/site-packages/ipykernel_launcher.py:35: TqdmDeprecationWarning: This function will be removed in tqdm==5.0.0\n",
      "Please use `tqdm.notebook.tqdm` instead of `tqdm.tqdm_notebook`\n"
     ]
    },
    {
     "data": {
      "application/vnd.jupyter.widget-view+json": {
       "model_id": "78fd198179d645dfaa4e9d03c952d125",
       "version_major": 2,
       "version_minor": 0
      },
      "text/plain": [
       "HBox(children=(FloatProgress(value=0.0, max=3.0), HTML(value='')))"
      ]
     },
     "metadata": {},
     "output_type": "display_data"
    },
    {
     "name": "stdout",
     "output_type": "stream",
     "text": [
      "\n"
     ]
    },
    {
     "name": "stderr",
     "output_type": "stream",
     "text": [
      "/opt/conda/lib/python3.7/site-packages/ipykernel_launcher.py:28: TqdmDeprecationWarning: This function will be removed in tqdm==5.0.0\n",
      "Please use `tqdm.notebook.tqdm` instead of `tqdm.tqdm_notebook`\n"
     ]
    },
    {
     "data": {
      "application/vnd.jupyter.widget-view+json": {
       "model_id": "2125b21a9af14b1caf2d762d35d91609",
       "version_major": 2,
       "version_minor": 0
      },
      "text/plain": [
       "HBox(children=(FloatProgress(value=0.0, max=4.0), HTML(value='')))"
      ]
     },
     "metadata": {},
     "output_type": "display_data"
    },
    {
     "name": "stdout",
     "output_type": "stream",
     "text": [
      "\n"
     ]
    },
    {
     "name": "stderr",
     "output_type": "stream",
     "text": [
      "/opt/conda/lib/python3.7/site-packages/ipykernel_launcher.py:35: TqdmDeprecationWarning: This function will be removed in tqdm==5.0.0\n",
      "Please use `tqdm.notebook.tqdm` instead of `tqdm.tqdm_notebook`\n"
     ]
    },
    {
     "data": {
      "application/vnd.jupyter.widget-view+json": {
       "model_id": "77bad31b198f49c6a9407885b1b83aee",
       "version_major": 2,
       "version_minor": 0
      },
      "text/plain": [
       "HBox(children=(FloatProgress(value=0.0, max=4.0), HTML(value='')))"
      ]
     },
     "metadata": {},
     "output_type": "display_data"
    },
    {
     "name": "stdout",
     "output_type": "stream",
     "text": [
      "\n"
     ]
    },
    {
     "name": "stderr",
     "output_type": "stream",
     "text": [
      "/opt/conda/lib/python3.7/site-packages/ipykernel_launcher.py:9: TqdmDeprecationWarning: This function will be removed in tqdm==5.0.0\n",
      "Please use `tqdm.notebook.tqdm` instead of `tqdm.tqdm_notebook`\n",
      "  if __name__ == '__main__':\n"
     ]
    },
    {
     "data": {
      "application/vnd.jupyter.widget-view+json": {
       "model_id": "4e96e46283c5428cbb251a373b9a3c96",
       "version_major": 2,
       "version_minor": 0
      },
      "text/plain": [
       "HBox(children=(FloatProgress(value=0.0, max=30.0), HTML(value='')))"
      ]
     },
     "metadata": {},
     "output_type": "display_data"
    },
    {
     "name": "stdout",
     "output_type": "stream",
     "text": [
      "\n"
     ]
    },
    {
     "name": "stderr",
     "output_type": "stream",
     "text": [
      "/opt/conda/lib/python3.7/site-packages/ipykernel_launcher.py:9: TqdmDeprecationWarning: This function will be removed in tqdm==5.0.0\n",
      "Please use `tqdm.notebook.tqdm` instead of `tqdm.tqdm_notebook`\n",
      "  if __name__ == '__main__':\n"
     ]
    },
    {
     "data": {
      "application/vnd.jupyter.widget-view+json": {
       "model_id": "e4e3221d27814c67b6e674c5f652dc87",
       "version_major": 2,
       "version_minor": 0
      },
      "text/plain": [
       "HBox(children=(FloatProgress(value=0.0, max=7.0), HTML(value='')))"
      ]
     },
     "metadata": {},
     "output_type": "display_data"
    },
    {
     "name": "stdout",
     "output_type": "stream",
     "text": [
      "\n"
     ]
    },
    {
     "name": "stderr",
     "output_type": "stream",
     "text": [
      "/opt/conda/lib/python3.7/site-packages/ipykernel_launcher.py:9: TqdmDeprecationWarning: This function will be removed in tqdm==5.0.0\n",
      "Please use `tqdm.notebook.tqdm` instead of `tqdm.tqdm_notebook`\n",
      "  if __name__ == '__main__':\n"
     ]
    },
    {
     "data": {
      "application/vnd.jupyter.widget-view+json": {
       "model_id": "a35f25e9b8064b5fa34249a491949a02",
       "version_major": 2,
       "version_minor": 0
      },
      "text/plain": [
       "HBox(children=(FloatProgress(value=0.0, max=10.0), HTML(value='')))"
      ]
     },
     "metadata": {},
     "output_type": "display_data"
    },
    {
     "name": "stdout",
     "output_type": "stream",
     "text": [
      "\n"
     ]
    },
    {
     "name": "stderr",
     "output_type": "stream",
     "text": [
      "/opt/conda/lib/python3.7/site-packages/ipykernel_launcher.py:9: TqdmDeprecationWarning: This function will be removed in tqdm==5.0.0\n",
      "Please use `tqdm.notebook.tqdm` instead of `tqdm.tqdm_notebook`\n",
      "  if __name__ == '__main__':\n"
     ]
    },
    {
     "data": {
      "application/vnd.jupyter.widget-view+json": {
       "model_id": "4add98c04ced401da90f6a76176b27f1",
       "version_major": 2,
       "version_minor": 0
      },
      "text/plain": [
       "HBox(children=(FloatProgress(value=0.0, max=6.0), HTML(value='')))"
      ]
     },
     "metadata": {},
     "output_type": "display_data"
    },
    {
     "name": "stdout",
     "output_type": "stream",
     "text": [
      "\n"
     ]
    }
   ],
   "source": [
    "df = pd.read_csv(txt)\n",
    "rmse, mape, est, df = train_model(df)\n",
    "train, cv, train_cv, test = split_train_dev_test(df)"
   ]
  },
  {
   "cell_type": "markdown",
   "metadata": {},
   "source": [
    "## Final model"
   ]
  },
  {
   "cell_type": "code",
   "execution_count": 58,
   "metadata": {},
   "outputs": [
    {
     "data": {
      "text/plain": [
       "Text(0, 0.5, 'USD')"
      ]
     },
     "execution_count": 58,
     "metadata": {},
     "output_type": "execute_result"
    },
    {
     "data": {
      "image/png": "[encoded data removed]",
      "text/plain": [
       "<Figure size 720x576 with 1 Axes>"
      ]
     },
     "metadata": {
      "needs_background": "light"
     },
     "output_type": "display_data"
    }
   ],
   "source": [
    "train, cv, train_cv, test = split_train_dev_test(df)\n",
    "y_sample = test['adj_close']\n",
    "# Plot adjusted close over time\n",
    "rcParams['figure.figsize'] = 10, 8 # width 10, height 8\n",
    "\n",
    "est_df = pd.DataFrame({'est': est, \n",
    "                       'y_sample': y_sample,\n",
    "                       'date': test['date']})\n",
    "\n",
    "ax = train.plot(x='date', y='adj_close', style='b-', grid=True)\n",
    "ax = cv.plot(x='date', y='adj_close', style='y-', grid=True, ax=ax)\n",
    "ax = test.plot(x='date', y='adj_close', style='r-', grid=True, ax=ax)\n",
    "ax = est_df.plot(x='date', y='est', style='g-', grid=True, ax=ax)\n",
    "ax.legend(['train', 'dev', 'test', 'predictions'])\n",
    "ax.set_xlabel(\"date\")\n",
    "ax.set_ylabel(\"USD\")"
   ]
  },
  {
   "cell_type": "code",
   "execution_count": 49,
   "metadata": {},
   "outputs": [
    {
     "name": "stdout",
     "output_type": "stream",
     "text": [
      "3      1999-05-07\n",
      "4      1999-05-10\n",
      "5      1999-05-11\n",
      "6      1999-05-12\n",
      "7      1999-05-13\n",
      "          ...    \n",
      "3726   2014-02-28\n",
      "3727   2014-03-03\n",
      "3728   2014-03-04\n",
      "3729   2014-03-05\n",
      "3730   2014-03-06\n",
      "Name: date, Length: 3728, dtype: datetime64[ns]\n"
     ]
    }
   ],
   "source": [
    "print(train['date'])"
   ]
  },
  {
   "cell_type": "code",
   "execution_count": 50,
   "metadata": {},
   "outputs": [
    {
     "data": {
      "text/plain": [
       "Text(0, 0.5, 'USD')"
      ]
     },
     "execution_count": 50,
     "metadata": {},
     "output_type": "execute_result"
    },
    {
     "data": {
      "image/png": "[encoded data removed]",
      "text/plain": [
       "<Figure size 720x576 with 1 Axes>"
      ]
     },
     "metadata": {
      "needs_background": "light"
     },
     "output_type": "display_data"
    }
   ],
   "source": [
    "# Plot adjusted close over time, only for test set\n",
    "rcParams['figure.figsize'] = 10, 8 # width 10, height 8\n",
    "matplotlib.rcParams.update({'font.size': 14})\n",
    "\n",
    "ax = test.plot(x='date', y='adj_close', style='gx-', grid=True)\n",
    "ax = est_df.plot(x='date', y='est', style='rx-', grid=True, ax=ax)\n",
    "ax.legend(['test', 'predictions using xgboost'], loc='upper left')\n",
    "ax.set_xlabel(\"date\")\n",
    "ax.set_ylabel(\"USD\")"
   ]
  },
  {
   "cell_type": "code",
   "execution_count": 51,
   "metadata": {},
   "outputs": [
    {
     "name": "stdout",
     "output_type": "stream",
     "text": [
      "4196    160.058514\n",
      "4197    161.432992\n",
      "4198    161.649055\n",
      "4199    155.694963\n",
      "4200    157.117588\n",
      "           ...    \n",
      "4656    244.722237\n",
      "4657    243.690143\n",
      "4658    240.140430\n",
      "4659    241.140641\n",
      "4660    240.827358\n",
      "Length: 465, dtype: float64\n"
     ]
    }
   ],
   "source": [
    "print(est)"
   ]
  },
  {
   "cell_type": "markdown",
   "metadata": {},
   "source": [
    "# Estimate on a particular Day"
   ]
  },
  {
   "cell_type": "code",
   "execution_count": 52,
   "metadata": {},
   "outputs": [
    {
     "name": "stdout",
     "output_type": "stream",
     "text": [
      "240.8273578272186\n"
     ]
    }
   ],
   "source": [
    "print(est[df[df.date=='2017-11-10'].index[0]])"
   ]
  },
  {
   "cell_type": "code",
   "execution_count": null,
   "metadata": {},
   "outputs": [],
   "source": []
  }
 ],
 "metadata": {
  "kernelspec": {
   "display_name": "Python 3",
   "language": "python",
   "name": "python3"
  },
  "language_info": {
   "codemirror_mode": {
    "name": "ipython",
    "version": 3
   },
   "file_extension": ".py",
   "mimetype": "text/x-python",
   "name": "python",
   "nbconvert_exporter": "python",
   "pygments_lexer": "ipython3",
   "version": "3.8.3"
  }
 },
 "nbformat": 4,
 "nbformat_minor": 4
}
